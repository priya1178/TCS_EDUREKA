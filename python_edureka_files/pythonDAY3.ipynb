{
 "cells": [
  {
   "cell_type": "code",
   "execution_count": 1,
   "id": "01c279bc",
   "metadata": {},
   "outputs": [
    {
     "name": "stdout",
     "output_type": "stream",
     "text": [
      "10\n",
      "9\n",
      "8\n",
      "7\n",
      "6\n",
      "5\n",
      "4\n",
      "3\n",
      "2\n",
      "1\n"
     ]
    }
   ],
   "source": [
    "#while loop ->combition of if & for  -> Ticket booking machine \n",
    "a=10\n",
    "while a>0:\n",
    "    print(a)\n",
    "    a-=1"
   ]
  },
  {
   "cell_type": "code",
   "execution_count": null,
   "id": "fe3d039f",
   "metadata": {},
   "outputs": [],
   "source": [
    "#else statement is in for & while loop but its not effective"
   ]
  },
  {
   "cell_type": "code",
   "execution_count": null,
   "id": "89e0c85a",
   "metadata": {},
   "outputs": [],
   "source": [
    "for x in sequence:\n",
    "    statement1\n",
    "else:\n",
    "    statement2\n",
    "    \n",
    "    \n",
    "while expression==True:\n",
    "    statmnt1\n",
    "else:\n",
    "    statmnt2"
   ]
  },
  {
   "cell_type": "code",
   "execution_count": null,
   "id": "f8335a48",
   "metadata": {},
   "outputs": [],
   "source": [
    "#loop control statements-break,continue,pass"
   ]
  },
  {
   "cell_type": "code",
   "execution_count": 2,
   "id": "6dde9679",
   "metadata": {},
   "outputs": [
    {
     "name": "stdout",
     "output_type": "stream",
     "text": [
      "ML 1\n",
      "ML 2\n",
      "ML 3\n"
     ]
    }
   ],
   "source": [
    "for i in range(1,7):\n",
    "    if i==4:\n",
    "        break\n",
    "    print(\"ML\",i)"
   ]
  },
  {
   "cell_type": "code",
   "execution_count": 3,
   "id": "89c0444e",
   "metadata": {},
   "outputs": [
    {
     "name": "stdout",
     "output_type": "stream",
     "text": [
      "ML 1\n",
      "ML 2\n",
      "ML 3\n",
      "ML 5\n",
      "ML 6\n"
     ]
    }
   ],
   "source": [
    "for i in range(1,7):\n",
    "    if i==4:\n",
    "        continue\n",
    "    print(\"ML\",i)"
   ]
  },
  {
   "cell_type": "code",
   "execution_count": 4,
   "id": "b9483261",
   "metadata": {},
   "outputs": [
    {
     "data": {
      "text/plain": [
       "'/home/labuser'"
      ]
     },
     "execution_count": 4,
     "metadata": {},
     "output_type": "execute_result"
    }
   ],
   "source": [
    "import os\n",
    "os.getcwd()"
   ]
  },
  {
   "cell_type": "code",
   "execution_count": 6,
   "id": "478ab9f2",
   "metadata": {},
   "outputs": [],
   "source": [
    "fp=open('tcs_bng.txt','w+')"
   ]
  },
  {
   "cell_type": "code",
   "execution_count": 7,
   "id": "45bc91e5",
   "metadata": {},
   "outputs": [
    {
     "ename": "FileNotFoundError",
     "evalue": "[Errno 2] No such file or directory: 'kar.txt'",
     "output_type": "error",
     "traceback": [
      "\u001b[0;31m---------------------------------------------------------------------------\u001b[0m",
      "\u001b[0;31mFileNotFoundError\u001b[0m                         Traceback (most recent call last)",
      "Cell \u001b[0;32mIn[7], line 1\u001b[0m\n\u001b[0;32m----> 1\u001b[0m f\u001b[38;5;241m=\u001b[39m\u001b[38;5;28mopen\u001b[39m(\u001b[38;5;124m'\u001b[39m\u001b[38;5;124mkar.txt\u001b[39m\u001b[38;5;124m'\u001b[39m)\n",
      "File \u001b[0;32m/opt/anaconda3/lib/python3.11/site-packages/IPython/core/interactiveshell.py:284\u001b[0m, in \u001b[0;36m_modified_open\u001b[0;34m(file, *args, **kwargs)\u001b[0m\n\u001b[1;32m    277\u001b[0m \u001b[38;5;28;01mif\u001b[39;00m file \u001b[38;5;129;01min\u001b[39;00m {\u001b[38;5;241m0\u001b[39m, \u001b[38;5;241m1\u001b[39m, \u001b[38;5;241m2\u001b[39m}:\n\u001b[1;32m    278\u001b[0m     \u001b[38;5;28;01mraise\u001b[39;00m \u001b[38;5;167;01mValueError\u001b[39;00m(\n\u001b[1;32m    279\u001b[0m         \u001b[38;5;124mf\u001b[39m\u001b[38;5;124m\"\u001b[39m\u001b[38;5;124mIPython won\u001b[39m\u001b[38;5;124m'\u001b[39m\u001b[38;5;124mt let you open fd=\u001b[39m\u001b[38;5;132;01m{\u001b[39;00mfile\u001b[38;5;132;01m}\u001b[39;00m\u001b[38;5;124m by default \u001b[39m\u001b[38;5;124m\"\u001b[39m\n\u001b[1;32m    280\u001b[0m         \u001b[38;5;124m\"\u001b[39m\u001b[38;5;124mas it is likely to crash IPython. If you know what you are doing, \u001b[39m\u001b[38;5;124m\"\u001b[39m\n\u001b[1;32m    281\u001b[0m         \u001b[38;5;124m\"\u001b[39m\u001b[38;5;124myou can use builtins\u001b[39m\u001b[38;5;124m'\u001b[39m\u001b[38;5;124m open.\u001b[39m\u001b[38;5;124m\"\u001b[39m\n\u001b[1;32m    282\u001b[0m     )\n\u001b[0;32m--> 284\u001b[0m \u001b[38;5;28;01mreturn\u001b[39;00m io_open(file, \u001b[38;5;241m*\u001b[39margs, \u001b[38;5;241m*\u001b[39m\u001b[38;5;241m*\u001b[39mkwargs)\n",
      "\u001b[0;31mFileNotFoundError\u001b[0m: [Errno 2] No such file or directory: 'kar.txt'"
     ]
    }
   ],
   "source": [
    "f=open('kar.txt')"
   ]
  },
  {
   "cell_type": "code",
   "execution_count": 8,
   "id": "b3a147d3",
   "metadata": {},
   "outputs": [],
   "source": [
    "fp.write(\"Testing \\n Mohana \\n priya\")\n",
    "fp.close()"
   ]
  },
  {
   "cell_type": "code",
   "execution_count": 9,
   "id": "2e290ca2",
   "metadata": {},
   "outputs": [
    {
     "name": "stdout",
     "output_type": "stream",
     "text": [
      "Testing \n",
      " Mohana \n",
      " priya\n"
     ]
    }
   ],
   "source": [
    "fp=open('tcs_bng.txt')\n",
    "print(fp.read())\n",
    "fp.close()"
   ]
  },
  {
   "cell_type": "code",
   "execution_count": null,
   "id": "34cc13af",
   "metadata": {},
   "outputs": [],
   "source": [
    "#ord,chr\n"
   ]
  },
  {
   "cell_type": "code",
   "execution_count": 12,
   "id": "9f3d639b",
   "metadata": {},
   "outputs": [
    {
     "name": "stdout",
     "output_type": "stream",
     "text": [
      "3\n"
     ]
    }
   ],
   "source": [
    "def calculator(a,b,op):\n",
    "    match op:\n",
    "        case '+' :\n",
    "            return(a+b)\n",
    "        case '-' :\n",
    "            return(a-b)\n",
    "        case '*' :\n",
    "            return(a*b)\n",
    "        case '/' :\n",
    "            return(a/b)\n",
    "a=calculator(5,2,'-')\n",
    "print(a)\n",
    "        "
   ]
  },
  {
   "cell_type": "code",
   "execution_count": 13,
   "id": "69bc5340",
   "metadata": {},
   "outputs": [
    {
     "name": "stdout",
     "output_type": "stream",
     "text": [
      "total 68\n",
      "drwxr-xr-x 2 labuser labuser  4096 Aug  5 12:21 Desktop\n",
      "drwxr-xr-x 2 labuser labuser  4096 Mar 10  2021 Documents\n",
      "drwxr-xr-x 3 labuser labuser  4096 Aug  5 12:06 Downloads\n",
      "drwxr-xr-x 2 labuser labuser  4096 Mar 10  2021 Music\n",
      "drwxr-xr-x 2 labuser labuser  4096 Mar 10  2021 Pictures\n",
      "drwxr-xr-x 2 labuser labuser  4096 Mar 10  2021 Public\n",
      "-rw-rw-r-- 1 labuser labuser 23771 Aug  8 07:34 TCS_PythonDay1.ipynb\n",
      "drwxr-xr-x 2 labuser labuser  4096 Mar 10  2021 Templates\n",
      "drwxr-xr-x 2 labuser labuser  4096 Mar 10  2021 Videos\n",
      "-rw-rw-r-- 1 labuser labuser  6905 Aug  9 05:28 pythonDAY3.ipynb\n",
      "-rw-rw-r-- 1 labuser labuser    24 Aug  9 04:51 tcs_bng.txt\n",
      "drwx------ 1 labuser labuser     0 Aug  9 04:17 thinclient_drives\n"
     ]
    },
    {
     "data": {
      "text/plain": [
       "0"
      ]
     },
     "execution_count": 13,
     "metadata": {},
     "output_type": "execute_result"
    }
   ],
   "source": [
    "import os\n",
    "os.system('ls -l')"
   ]
  },
  {
   "cell_type": "code",
   "execution_count": null,
   "id": "a8644c24",
   "metadata": {},
   "outputs": [],
   "source": [
    "#local,global variables"
   ]
  },
  {
   "cell_type": "code",
   "execution_count": 15,
   "id": "796c4897",
   "metadata": {},
   "outputs": [
    {
     "name": "stdout",
     "output_type": "stream",
     "text": [
      "vivo\n",
      "outside,vivo\n"
     ]
    }
   ],
   "source": [
    "def mobile():\n",
    "    global a\n",
    "    a='vivo'\n",
    "    print(a)\n",
    "mobile()\n",
    "print(f\"outside,{a}\")"
   ]
  },
  {
   "cell_type": "code",
   "execution_count": 17,
   "id": "498e5841",
   "metadata": {},
   "outputs": [
    {
     "name": "stdout",
     "output_type": "stream",
     "text": [
      "{'__name__': '__main__', '__doc__': 'Automatically created module for IPython interactive environment', '__package__': None, '__loader__': None, '__spec__': None, '__builtin__': <module 'builtins' (built-in)>, '__builtins__': <module 'builtins' (built-in)>, '_ih': ['', '#while loop\\na=10\\nwhile a>0:\\n    print(a)\\n    a-=1', 'for i in range(1,7):\\n    if i==4:\\n        break\\n    print(\"ML\",i)', 'for i in range(1,7):\\n    if i==4:\\n        continue\\n    print(\"ML\",i)', 'import os\\nos.getcwd()', \"fp=open('tcs_bng.txt','w+'')\", \"fp=open('tcs_bng.txt','w+')\", \"f=open('kar.txt')\", 'fp.write(\"Testing \\\\n Mohana \\\\n priya\")\\nfp.close()', \"fp=open('tcs_bng.txt')\\nprint(fp.read())\\nfp.close()\", \"def calculator(a,b,op):\\n    match op:\\n        case '+' :\\n            return(a+b)\\n        case '-' :\\n            return(a-b)\\n        case '*' :\\n            return(a*b)\\n        case '/' :\\n            return(a/b)\\na=calculator(5,2,'+')\\n        \", \"def calculator(a,b,op):\\n    match op:\\n        case '+' :\\n            return(a+b)\\n        case '-' :\\n            return(a-b)\\n        case '*' :\\n            return(a*b)\\n        case '/' :\\n            return(a/b)\\na=calculator(5,2,'+')\\nprint(a)\\n        \", \"def calculator(a,b,op):\\n    match op:\\n        case '+' :\\n            return(a+b)\\n        case '-' :\\n            return(a-b)\\n        case '*' :\\n            return(a*b)\\n        case '/' :\\n            return(a/b)\\na=calculator(5,2,'-')\\nprint(a)\\n        \", \"import os\\nos.system('ls -l')\", 'def mobile():\\n    global a\\n    a=\\'vivo\\'\\n    print(a)\\nmobile()\\nprint(f\"outside,{a})', 'def mobile():\\n    global a\\n    a=\\'vivo\\'\\n    print(a)\\nmobile()\\nprint(f\"outside,{a}\")', '#global()  ->will get all global variables\\nprint(global())', '#global()  ->will get all global variables\\nprint(globals())'], '_oh': {4: '/home/labuser', 13: 0}, '_dh': [PosixPath('/home/labuser')], 'In': ['', '#while loop\\na=10\\nwhile a>0:\\n    print(a)\\n    a-=1', 'for i in range(1,7):\\n    if i==4:\\n        break\\n    print(\"ML\",i)', 'for i in range(1,7):\\n    if i==4:\\n        continue\\n    print(\"ML\",i)', 'import os\\nos.getcwd()', \"fp=open('tcs_bng.txt','w+'')\", \"fp=open('tcs_bng.txt','w+')\", \"f=open('kar.txt')\", 'fp.write(\"Testing \\\\n Mohana \\\\n priya\")\\nfp.close()', \"fp=open('tcs_bng.txt')\\nprint(fp.read())\\nfp.close()\", \"def calculator(a,b,op):\\n    match op:\\n        case '+' :\\n            return(a+b)\\n        case '-' :\\n            return(a-b)\\n        case '*' :\\n            return(a*b)\\n        case '/' :\\n            return(a/b)\\na=calculator(5,2,'+')\\n        \", \"def calculator(a,b,op):\\n    match op:\\n        case '+' :\\n            return(a+b)\\n        case '-' :\\n            return(a-b)\\n        case '*' :\\n            return(a*b)\\n        case '/' :\\n            return(a/b)\\na=calculator(5,2,'+')\\nprint(a)\\n        \", \"def calculator(a,b,op):\\n    match op:\\n        case '+' :\\n            return(a+b)\\n        case '-' :\\n            return(a-b)\\n        case '*' :\\n            return(a*b)\\n        case '/' :\\n            return(a/b)\\na=calculator(5,2,'-')\\nprint(a)\\n        \", \"import os\\nos.system('ls -l')\", 'def mobile():\\n    global a\\n    a=\\'vivo\\'\\n    print(a)\\nmobile()\\nprint(f\"outside,{a})', 'def mobile():\\n    global a\\n    a=\\'vivo\\'\\n    print(a)\\nmobile()\\nprint(f\"outside,{a}\")', '#global()  ->will get all global variables\\nprint(global())', '#global()  ->will get all global variables\\nprint(globals())'], 'Out': {4: '/home/labuser', 13: 0}, 'get_ipython': <bound method InteractiveShell.get_ipython of <ipykernel.zmqshell.ZMQInteractiveShell object at 0x7ff2b94e1110>>, 'exit': <IPython.core.autocall.ZMQExitAutocall object at 0x7ff2b94e8e90>, 'quit': <IPython.core.autocall.ZMQExitAutocall object at 0x7ff2b94e8e90>, 'open': <function open at 0x7ff2ba8aae80>, '_': 0, '__': '/home/labuser', '___': '', '_i': '#global()  ->will get all global variables\\nprint(global())', '_ii': 'def mobile():\\n    global a\\n    a=\\'vivo\\'\\n    print(a)\\nmobile()\\nprint(f\"outside,{a}\")', '_iii': 'def mobile():\\n    global a\\n    a=\\'vivo\\'\\n    print(a)\\nmobile()\\nprint(f\"outside,{a})', '_i1': '#while loop\\na=10\\nwhile a>0:\\n    print(a)\\n    a-=1', 'a': 'vivo', '_i2': 'for i in range(1,7):\\n    if i==4:\\n        break\\n    print(\"ML\",i)', 'i': 6, '_i3': 'for i in range(1,7):\\n    if i==4:\\n        continue\\n    print(\"ML\",i)', '_i4': 'import os\\nos.getcwd()', 'os': <module 'os' (frozen)>, '_4': '/home/labuser', '_i5': \"fp=open('tcs_bng.txt','w+'')\", '_i6': \"fp=open('tcs_bng.txt','w+')\", 'fp': <_io.TextIOWrapper name='tcs_bng.txt' mode='r' encoding='UTF-8'>, '_i7': \"f=open('kar.txt')\", '_i8': 'fp.write(\"Testing \\\\n Mohana \\\\n priya\")\\nfp.close()', '_i9': \"fp=open('tcs_bng.txt')\\nprint(fp.read())\\nfp.close()\", '_i10': \"def calculator(a,b,op):\\n    match op:\\n        case '+' :\\n            return(a+b)\\n        case '-' :\\n            return(a-b)\\n        case '*' :\\n            return(a*b)\\n        case '/' :\\n            return(a/b)\\na=calculator(5,2,'+')\\n        \", 'calculator': <function calculator at 0x7ff296f4dda0>, '_i11': \"def calculator(a,b,op):\\n    match op:\\n        case '+' :\\n            return(a+b)\\n        case '-' :\\n            return(a-b)\\n        case '*' :\\n            return(a*b)\\n        case '/' :\\n            return(a/b)\\na=calculator(5,2,'+')\\nprint(a)\\n        \", '_i12': \"def calculator(a,b,op):\\n    match op:\\n        case '+' :\\n            return(a+b)\\n        case '-' :\\n            return(a-b)\\n        case '*' :\\n            return(a*b)\\n        case '/' :\\n            return(a/b)\\na=calculator(5,2,'-')\\nprint(a)\\n        \", '_i13': \"import os\\nos.system('ls -l')\", '_13': 0, '_i14': 'def mobile():\\n    global a\\n    a=\\'vivo\\'\\n    print(a)\\nmobile()\\nprint(f\"outside,{a})', '_i15': 'def mobile():\\n    global a\\n    a=\\'vivo\\'\\n    print(a)\\nmobile()\\nprint(f\"outside,{a}\")', 'mobile': <function mobile at 0x7ff296f4d9e0>, '_i16': '#global()  ->will get all global variables\\nprint(global())', '_i17': '#global()  ->will get all global variables\\nprint(globals())'}\n"
     ]
    }
   ],
   "source": [
    "#globals()  ->will get all global variables\n",
    "print(globals())"
   ]
  },
  {
   "cell_type": "code",
   "execution_count": 18,
   "id": "d4dfdb70",
   "metadata": {},
   "outputs": [
    {
     "name": "stdout",
     "output_type": "stream",
     "text": [
      "3.141592653589793\n"
     ]
    }
   ],
   "source": [
    "import math\n",
    "print(math.pi)"
   ]
  },
  {
   "cell_type": "code",
   "execution_count": 20,
   "id": "4bfccdc8",
   "metadata": {},
   "outputs": [
    {
     "name": "stdout",
     "output_type": "stream",
     "text": [
      "local\n"
     ]
    }
   ],
   "source": [
    "#LEGB-local,enclosing,global,builtin\n",
    "import math #builtin\n",
    "pi=\"global\"#global\n",
    "def greet():\n",
    "    pi=\"enclosing\" #enclosing\n",
    "    def hello():\n",
    "        pi=\"local\" #local\n",
    "        print(pi)\n",
    "    hello()\n",
    "greet()\n"
   ]
  },
  {
   "cell_type": "code",
   "execution_count": null,
   "id": "55070376",
   "metadata": {},
   "outputs": [],
   "source": [
    "#To create new folder\n",
    "import os\n",
    "os.mkdir('folder_name')"
   ]
  },
  {
   "cell_type": "code",
   "execution_count": null,
   "id": "1d908fc5",
   "metadata": {},
   "outputs": [],
   "source": [
    "#modules-os,random,sys\n",
    "os -> mkdir(),chdir(),rmdir()"
   ]
  },
  {
   "cell_type": "code",
   "execution_count": 25,
   "id": "1932decc",
   "metadata": {},
   "outputs": [
    {
     "name": "stdout",
     "output_type": "stream",
     "text": [
      "asma\n",
      "lavanya\n",
      "priyanka\n",
      "preethi\n",
      "mohana\n",
      "pavan\n"
     ]
    }
   ],
   "source": [
    "import random\n",
    "l=['priya','mohana','lavanya','pavan','preethi','asma','priyanka']\n",
    "for i in range(1,7):\n",
    "    a=random.choice(l)\n",
    "    print(a)\n",
    "    l.remove(a)"
   ]
  },
  {
   "cell_type": "code",
   "execution_count": null,
   "id": "604f6ca4",
   "metadata": {},
   "outputs": [],
   "source": [
    "#docstrings"
   ]
  },
  {
   "cell_type": "code",
   "execution_count": 30,
   "id": "307939e9",
   "metadata": {},
   "outputs": [
    {
     "name": "stdout",
     "output_type": "stream",
     "text": [
      "age outside 15\n",
      "age is :  12\n",
      "age is: 27\n",
      "age outside 27\n"
     ]
    }
   ],
   "source": [
    "b=67\n",
    "age=15\n",
    "def a():\n",
    "    #global age -> global keyword inside function-local var will become global variable\n",
    "    globals()['age']=27 # can access both local,global within function\n",
    "    age=12\n",
    "    print(\"age is : \",age)\n",
    "    print(\"age is:\",globals()['age'])\n",
    "print(\"age outside\",age)\n",
    "a()\n",
    "print(\"age outside\",age)"
   ]
  },
  {
   "cell_type": "code",
   "execution_count": 31,
   "id": "e631b2fa",
   "metadata": {},
   "outputs": [
    {
     "data": {
      "text/plain": [
       "16"
      ]
     },
     "execution_count": 31,
     "metadata": {},
     "output_type": "execute_result"
    }
   ],
   "source": [
    "#lambda does the work of a function and returns the output in single line\n",
    "square_ans=lambda num:num**2\n",
    "square_ans(4)"
   ]
  },
  {
   "cell_type": "code",
   "execution_count": null,
   "id": "d6d02ed2",
   "metadata": {},
   "outputs": [],
   "source": []
  },
  {
   "cell_type": "code",
   "execution_count": null,
   "id": "c5937e10",
   "metadata": {},
   "outputs": [],
   "source": []
  }
 ],
 "metadata": {
  "kernelspec": {
   "display_name": "Python 3 (ipykernel)",
   "language": "python",
   "name": "python3"
  },
  "language_info": {
   "codemirror_mode": {
    "name": "ipython",
    "version": 3
   },
   "file_extension": ".py",
   "mimetype": "text/x-python",
   "name": "python",
   "nbconvert_exporter": "python",
   "pygments_lexer": "ipython3",
   "version": "3.11.4"
  }
 },
 "nbformat": 4,
 "nbformat_minor": 5
}
