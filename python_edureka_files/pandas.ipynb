{
 "cells": [
  {
   "cell_type": "code",
   "execution_count": null,
   "id": "84076bde",
   "metadata": {},
   "outputs": [],
   "source": [
    "import numpy as np\n",
    "#generating np array from txt file and skipping footer line1\n",
    "out=np.genfromtext(\"file_name.txt\",dtype=str,encoding=None,skip_footer=1)\n"
   ]
  },
  {
   "cell_type": "code",
   "execution_count": null,
   "id": "61d75bda",
   "metadata": {},
   "outputs": [],
   "source": [
    "#numpy to file\n",
    "import numpy as np\n",
    "a=np.arange(5)\n",
    "print(a)\n",
    "np.save('tcsnumpy',a)  #u wont bre able to open this file.To do that u need to use load func\n",
    "print(\"array is saved\")"
   ]
  },
  {
   "cell_type": "code",
   "execution_count": null,
   "id": "092ab1f0",
   "metadata": {},
   "outputs": [],
   "source": [
    "b=np.load('tcsnumpy.npy')\n",
    "print(b)"
   ]
  },
  {
   "cell_type": "code",
   "execution_count": 9,
   "id": "87a83621",
   "metadata": {
    "collapsed": true
   },
   "outputs": [
    {
     "name": "stdout",
     "output_type": "stream",
     "text": [
      "   Duration  Pulse  Maxpulse  Calories\n",
      "0        60    110       130     409.1\n",
      "1        60    117       145     479.0\n",
      "2        60    103       135     340.0\n",
      "3        45    109       175     282.4\n",
      "4        45    117       148     406.0\n"
     ]
    }
   ],
   "source": [
    "import pandas as pd\n",
    "df=pd.read_csv('data.csv')\n",
    "print(df.head())"
   ]
  },
  {
   "cell_type": "code",
   "execution_count": 11,
   "id": "c32b5980",
   "metadata": {
    "collapsed": true
   },
   "outputs": [
    {
     "data": {
      "text/html": [
       "<div>\n",
       "<style scoped>\n",
       "    .dataframe tbody tr th:only-of-type {\n",
       "        vertical-align: middle;\n",
       "    }\n",
       "\n",
       "    .dataframe tbody tr th {\n",
       "        vertical-align: top;\n",
       "    }\n",
       "\n",
       "    .dataframe thead th {\n",
       "        text-align: right;\n",
       "    }\n",
       "</style>\n",
       "<table border=\"1\" class=\"dataframe\">\n",
       "  <thead>\n",
       "    <tr style=\"text-align: right;\">\n",
       "      <th></th>\n",
       "      <th>Duration</th>\n",
       "      <th>Pulse</th>\n",
       "      <th>Maxpulse</th>\n",
       "      <th>Calories</th>\n",
       "    </tr>\n",
       "  </thead>\n",
       "  <tbody>\n",
       "    <tr>\n",
       "      <th>3</th>\n",
       "      <td>45</td>\n",
       "      <td>109</td>\n",
       "      <td>175</td>\n",
       "      <td>282.4</td>\n",
       "    </tr>\n",
       "    <tr>\n",
       "      <th>4</th>\n",
       "      <td>45</td>\n",
       "      <td>117</td>\n",
       "      <td>148</td>\n",
       "      <td>406.0</td>\n",
       "    </tr>\n",
       "    <tr>\n",
       "      <th>7</th>\n",
       "      <td>45</td>\n",
       "      <td>104</td>\n",
       "      <td>134</td>\n",
       "      <td>253.3</td>\n",
       "    </tr>\n",
       "    <tr>\n",
       "      <th>8</th>\n",
       "      <td>30</td>\n",
       "      <td>109</td>\n",
       "      <td>133</td>\n",
       "      <td>195.1</td>\n",
       "    </tr>\n",
       "    <tr>\n",
       "      <th>17</th>\n",
       "      <td>45</td>\n",
       "      <td>90</td>\n",
       "      <td>112</td>\n",
       "      <td>NaN</td>\n",
       "    </tr>\n",
       "    <tr>\n",
       "      <th>...</th>\n",
       "      <td>...</td>\n",
       "      <td>...</td>\n",
       "      <td>...</td>\n",
       "      <td>...</td>\n",
       "    </tr>\n",
       "    <tr>\n",
       "      <th>159</th>\n",
       "      <td>30</td>\n",
       "      <td>80</td>\n",
       "      <td>120</td>\n",
       "      <td>240.9</td>\n",
       "    </tr>\n",
       "    <tr>\n",
       "      <th>160</th>\n",
       "      <td>30</td>\n",
       "      <td>85</td>\n",
       "      <td>120</td>\n",
       "      <td>250.4</td>\n",
       "    </tr>\n",
       "    <tr>\n",
       "      <th>161</th>\n",
       "      <td>45</td>\n",
       "      <td>90</td>\n",
       "      <td>130</td>\n",
       "      <td>260.4</td>\n",
       "    </tr>\n",
       "    <tr>\n",
       "      <th>162</th>\n",
       "      <td>45</td>\n",
       "      <td>95</td>\n",
       "      <td>130</td>\n",
       "      <td>270.0</td>\n",
       "    </tr>\n",
       "    <tr>\n",
       "      <th>163</th>\n",
       "      <td>45</td>\n",
       "      <td>100</td>\n",
       "      <td>140</td>\n",
       "      <td>280.9</td>\n",
       "    </tr>\n",
       "  </tbody>\n",
       "</table>\n",
       "<p>63 rows × 4 columns</p>\n",
       "</div>"
      ],
      "text/plain": [
       "     Duration  Pulse  Maxpulse  Calories\n",
       "3          45    109       175     282.4\n",
       "4          45    117       148     406.0\n",
       "7          45    104       134     253.3\n",
       "8          30    109       133     195.1\n",
       "17         45     90       112       NaN\n",
       "..        ...    ...       ...       ...\n",
       "159        30     80       120     240.9\n",
       "160        30     85       120     250.4\n",
       "161        45     90       130     260.4\n",
       "162        45     95       130     270.0\n",
       "163        45    100       140     280.9\n",
       "\n",
       "[63 rows x 4 columns]"
      ]
     },
     "execution_count": 11,
     "metadata": {},
     "output_type": "execute_result"
    }
   ],
   "source": [
    "filtered_df=df[df['Duration']<60]\n",
    "filtered_df"
   ]
  },
  {
   "cell_type": "code",
   "execution_count": 13,
   "id": "5fe83991",
   "metadata": {
    "collapsed": true
   },
   "outputs": [
    {
     "data": {
      "text/plain": [
       "Duration\n",
       "15     102.000000\n",
       "20     125.000000\n",
       "25     152.000000\n",
       "30     109.812500\n",
       "45     107.485714\n",
       "60     106.126582\n",
       "75     122.500000\n",
       "80     123.000000\n",
       "90      93.750000\n",
       "120    100.000000\n",
       "150    101.500000\n",
       "160    109.500000\n",
       "180     93.666667\n",
       "210    122.500000\n",
       "270    100.000000\n",
       "300    108.000000\n",
       "Name: Pulse, dtype: float64"
      ]
     },
     "execution_count": 13,
     "metadata": {},
     "output_type": "execute_result"
    }
   ],
   "source": [
    "df=df.groupby('Duration')['Pulse'].mean()\n",
    "df"
   ]
  },
  {
   "cell_type": "code",
   "execution_count": null,
   "id": "4721e510",
   "metadata": {},
   "outputs": [],
   "source": [
    "#combining two df based on common column\n",
    "merge_df=pd.merge(df1,df2,on='ID')"
   ]
  },
  {
   "cell_type": "code",
   "execution_count": null,
   "id": "fa9aada2",
   "metadata": {},
   "outputs": [],
   "source": [
    "#concat 2 df\n",
    "frames = [df, df1]\n",
    "\n",
    "res1 = pd.concat(frames)\n",
    "res1"
   ]
  },
  {
   "cell_type": "code",
   "execution_count": null,
   "id": "759828c4",
   "metadata": {},
   "outputs": [],
   "source": [
    "#join df\n",
    "#apply\n",
    "#sort_values\n",
    "#iterrows\n",
    "#unique\n",
    "#value_counts,chaining methods\n",
    "#Str methods"
   ]
  },
  {
   "cell_type": "code",
   "execution_count": null,
   "id": "029654ee",
   "metadata": {},
   "outputs": [],
   "source": [
    "#setup and teardown methods"
   ]
  }
 ],
 "metadata": {
  "kernelspec": {
   "display_name": "Python 3 (ipykernel)",
   "language": "python",
   "name": "python3"
  },
  "language_info": {
   "codemirror_mode": {
    "name": "ipython",
    "version": 3
   },
   "file_extension": ".py",
   "mimetype": "text/x-python",
   "name": "python",
   "nbconvert_exporter": "python",
   "pygments_lexer": "ipython3",
   "version": "3.11.4"
  }
 },
 "nbformat": 4,
 "nbformat_minor": 5
}
