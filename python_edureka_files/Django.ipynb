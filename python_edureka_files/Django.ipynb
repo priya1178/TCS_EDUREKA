{
 "cells": [
  {
   "cell_type": "code",
   "execution_count": null,
   "id": "c3745c55",
   "metadata": {},
   "outputs": [],
   "source": [
    "#django"
   ]
  },
  {
   "cell_type": "code",
   "execution_count": null,
   "id": "7c92caa0",
   "metadata": {},
   "outputs": [],
   "source": [
    "#monolithic,microservices architecture"
   ]
  },
  {
   "cell_type": "code",
   "execution_count": null,
   "id": "5615135c",
   "metadata": {},
   "outputs": [],
   "source": [
    "#MVT"
   ]
  },
  {
   "cell_type": "code",
   "execution_count": null,
   "id": "909fcf01",
   "metadata": {},
   "outputs": [],
   "source": [
    "#temlplaate inheritance"
   ]
  },
  {
   "cell_type": "code",
   "execution_count": null,
   "id": "f4921772",
   "metadata": {
    "collapsed": true
   },
   "outputs": [],
   "source": []
  },
  {
   "cell_type": "code",
   "execution_count": null,
   "id": "e5831333",
   "metadata": {},
   "outputs": [],
   "source": [
    "pip install django\n",
    "pip install django --upgrade\n",
    "Django-admin startproject 'projectname'\n",
    "cd projectname\n",
    "python manage.py startapp 'app name'\n",
    "copy urls.py from project into app\n",
    "python manage.py runserver\n",
    " \n",
    "add path,include into project url\n",
    "add include in app urls\n",
    "add index in views.py\n",
    " \n",
    " \n",
    "then we created template in project , with 3 files [index,about,conatct]\n",
    "add about and contact urls.py\n",
    "add conact and about function in views \n",
    "add dirs. in setting .py\n",
    "template should be outside"
   ]
  }
 ],
 "metadata": {
  "kernelspec": {
   "display_name": "Python 3 (ipykernel)",
   "language": "python",
   "name": "python3"
  },
  "language_info": {
   "codemirror_mode": {
    "name": "ipython",
    "version": 3
   },
   "file_extension": ".py",
   "mimetype": "text/x-python",
   "name": "python",
   "nbconvert_exporter": "python",
   "pygments_lexer": "ipython3",
   "version": "3.11.4"
  }
 },
 "nbformat": 4,
 "nbformat_minor": 5
}
