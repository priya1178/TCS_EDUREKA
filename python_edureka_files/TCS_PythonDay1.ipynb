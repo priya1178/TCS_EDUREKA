{
 "cells": [
  {
   "cell_type": "code",
   "execution_count": 1,
   "id": "53eb3854",
   "metadata": {},
   "outputs": [
    {
     "name": "stdout",
     "output_type": "stream",
     "text": [
      "Hello TCS\n"
     ]
    }
   ],
   "source": [
    "print(\"Hello TCS\")"
   ]
  },
  {
   "cell_type": "markdown",
   "id": "c3a10df6",
   "metadata": {},
   "source": [
    "compiler- compiles entire code\n",
    "INterpreter - line by kine execution\n",
    "low level-understandable to machine\n",
    "high level lang-understable to human(variable is not explicitly declared,redeclaration is allowed)\n",
    "dynamically typed - checking takes place at run time\n",
    "library - predefined functions ,we can use it wherever required\n",
    "c++ -> object oriented(data security is high)\n",
    "python - procedural and obj oriented\n",
    "pedmas -> precedence in python\n",
    "Mutable (lidt,dict,set)\n",
    "Immutable (numeric,string,tuples) -> user should not be able to change it\n",
    "basic syntax - Identifiers,Indents,keywords,functions,classes,modules,\n",
    "find-returns -1 if substring is not found\n",
    "index- throws error if substr is not found\n"
   ]
  },
  {
   "cell_type": "code",
   "execution_count": 2,
   "id": "37a79156",
   "metadata": {},
   "outputs": [
    {
     "name": "stdout",
     "output_type": "stream",
     "text": [
      "The Zen of Python, by Tim Peters\n",
      "\n",
      "Beautiful is better than ugly.\n",
      "Explicit is better than implicit.\n",
      "Simple is better than complex.\n",
      "Complex is better than complicated.\n",
      "Flat is better than nested.\n",
      "Sparse is better than dense.\n",
      "Readability counts.\n",
      "Special cases aren't special enough to break the rules.\n",
      "Although practicality beats purity.\n",
      "Errors should never pass silently.\n",
      "Unless explicitly silenced.\n",
      "In the face of ambiguity, refuse the temptation to guess.\n",
      "There should be one-- and preferably only one --obvious way to do it.\n",
      "Although that way may not be obvious at first unless you're Dutch.\n",
      "Now is better than never.\n",
      "Although never is often better than *right* now.\n",
      "If the implementation is hard to explain, it's a bad idea.\n",
      "If the implementation is easy to explain, it may be a good idea.\n",
      "Namespaces are one honking great idea -- let's do more of those!\n"
     ]
    }
   ],
   "source": [
    "import this"
   ]
  },
  {
   "cell_type": "code",
   "execution_count": 3,
   "id": "f688b9ce",
   "metadata": {},
   "outputs": [
    {
     "name": "stdout",
     "output_type": "stream",
     "text": [
      "10\n"
     ]
    }
   ],
   "source": [
    "a=10\n",
    "print(a)\n"
   ]
  },
  {
   "cell_type": "code",
   "execution_count": 4,
   "id": "51374ef4",
   "metadata": {},
   "outputs": [
    {
     "data": {
      "text/plain": [
       "int"
      ]
     },
     "execution_count": 4,
     "metadata": {},
     "output_type": "execute_result"
    }
   ],
   "source": [
    "type(a)"
   ]
  },
  {
   "cell_type": "code",
   "execution_count": 5,
   "id": "3938d01b",
   "metadata": {},
   "outputs": [
    {
     "data": {
      "text/plain": [
       "8885288"
      ]
     },
     "execution_count": 5,
     "metadata": {},
     "output_type": "execute_result"
    }
   ],
   "source": [
    "id(a)"
   ]
  },
  {
   "cell_type": "code",
   "execution_count": 6,
   "id": "80322c0d",
   "metadata": {},
   "outputs": [
    {
     "data": {
      "text/plain": [
       "8885320"
      ]
     },
     "execution_count": 6,
     "metadata": {},
     "output_type": "execute_result"
    }
   ],
   "source": [
    "a=11\n",
    "id(a)  "
   ]
  },
  {
   "cell_type": "code",
   "execution_count": 7,
   "id": "9cdd7824",
   "metadata": {},
   "outputs": [
    {
     "data": {
      "text/plain": [
       "['False',\n",
       " 'None',\n",
       " 'True',\n",
       " 'and',\n",
       " 'as',\n",
       " 'assert',\n",
       " 'async',\n",
       " 'await',\n",
       " 'break',\n",
       " 'class',\n",
       " 'continue',\n",
       " 'def',\n",
       " 'del',\n",
       " 'elif',\n",
       " 'else',\n",
       " 'except',\n",
       " 'finally',\n",
       " 'for',\n",
       " 'from',\n",
       " 'global',\n",
       " 'if',\n",
       " 'import',\n",
       " 'in',\n",
       " 'is',\n",
       " 'lambda',\n",
       " 'nonlocal',\n",
       " 'not',\n",
       " 'or',\n",
       " 'pass',\n",
       " 'raise',\n",
       " 'return',\n",
       " 'try',\n",
       " 'while',\n",
       " 'with',\n",
       " 'yield']"
      ]
     },
     "execution_count": 7,
     "metadata": {},
     "output_type": "execute_result"
    }
   ],
   "source": [
    "import keyword\n",
    "keyword.kwlist"
   ]
  },
  {
   "cell_type": "code",
   "execution_count": 9,
   "id": "fb38d676",
   "metadata": {},
   "outputs": [
    {
     "name": "stdout",
     "output_type": "stream",
     "text": [
      "7\n",
      "3\n",
      "10\n",
      "2.5\n",
      "1\n",
      "25\n",
      "2\n"
     ]
    }
   ],
   "source": [
    "a=5\n",
    "b=2\n",
    "print(a+b)\n",
    "print(a-b)\n",
    "print(a*b)\n",
    "print(a/b)\n",
    "print(a%b)\n",
    "print(a**b)\n",
    "print(a//b)"
   ]
  },
  {
   "cell_type": "code",
   "execution_count": 18,
   "id": "9343a61e",
   "metadata": {},
   "outputs": [
    {
     "name": "stdout",
     "output_type": "stream",
     "text": [
      "\n"
     ]
    }
   ],
   "source": [
    "p='bangalore'\n",
    "print(p[-1:0])"
   ]
  },
  {
   "cell_type": "code",
   "execution_count": 22,
   "id": "053e71d5",
   "metadata": {},
   "outputs": [
    {
     "name": "stdout",
     "output_type": "stream",
     "text": [
      "erolagnab\n"
     ]
    }
   ],
   "source": [
    "print(p[::-1])"
   ]
  },
  {
   "cell_type": "code",
   "execution_count": 25,
   "id": "24a0d397",
   "metadata": {},
   "outputs": [
    {
     "ename": "ValueError",
     "evalue": "empty separator",
     "output_type": "error",
     "traceback": [
      "\u001b[0;31m---------------------------------------------------------------------------\u001b[0m",
      "\u001b[0;31mValueError\u001b[0m                                Traceback (most recent call last)",
      "Cell \u001b[0;32mIn[25], line 2\u001b[0m\n\u001b[1;32m      1\u001b[0m n\u001b[38;5;241m=\u001b[39m\u001b[38;5;124m'\u001b[39m\u001b[38;5;124mpavan\u001b[39m\u001b[38;5;124m'\u001b[39m\n\u001b[0;32m----> 2\u001b[0m n\u001b[38;5;241m.\u001b[39msplit(\u001b[38;5;124m'\u001b[39m\u001b[38;5;124m'\u001b[39m)\n",
      "\u001b[0;31mValueError\u001b[0m: empty separator"
     ]
    }
   ],
   "source": [
    "n='pavan'\n",
    "n.split('')"
   ]
  },
  {
   "cell_type": "code",
   "execution_count": 1,
   "id": "ab7b574a",
   "metadata": {},
   "outputs": [
    {
     "name": "stdout",
     "output_type": "stream",
     "text": [
      "Your Name?priya\n",
      "THe name is ,name \n"
     ]
    }
   ],
   "source": [
    "#8 Aug\n",
    "name=input('Your Name?')\n",
    "print(\"THe name is ,name \")"
   ]
  },
  {
   "cell_type": "code",
   "execution_count": null,
   "id": "d48a359f",
   "metadata": {},
   "outputs": [],
   "source": [
    "#google "
   ]
  },
  {
   "cell_type": "code",
   "execution_count": null,
   "id": "8dc4efcb",
   "metadata": {},
   "outputs": [],
   "source": [
    "for i in range(1,3):"
   ]
  },
  {
   "cell_type": "code",
   "execution_count": 3,
   "id": "2ac7162c",
   "metadata": {},
   "outputs": [
    {
     "name": "stdout",
     "output_type": "stream",
     "text": [
      "Im from bngIm doing corporate training      in TCS\n"
     ]
    }
   ],
   "source": [
    "#To give multiline or lenfthy statements in next line - / can be used\n",
    "print('Im from bng\\\n",
    "Im doing corporate training\\\n",
    "      in TCS')"
   ]
  },
  {
   "cell_type": "code",
   "execution_count": 4,
   "id": "02cf3d85",
   "metadata": {},
   "outputs": [
    {
     "ename": "SyntaxError",
     "evalue": "unterminated string literal (detected at line 2) (1353264201.py, line 1)",
     "output_type": "error",
     "traceback": [
      "\u001b[0;36m  Cell \u001b[0;32mIn[4], line 1\u001b[0;36m\u001b[0m\n\u001b[0;31m    print('Im from bng\\\u001b[0m\n\u001b[0m          ^\u001b[0m\n\u001b[0;31mSyntaxError\u001b[0m\u001b[0;31m:\u001b[0m unterminated string literal (detected at line 2)\n"
     ]
    }
   ],
   "source": [
    "print('Im from bng\\\n",
    "Im doing corporate training\n",
    "      in TCS')"
   ]
  },
  {
   "cell_type": "code",
   "execution_count": 5,
   "id": "2cfd5348",
   "metadata": {},
   "outputs": [
    {
     "name": "stdout",
     "output_type": "stream",
     "text": [
      "hello,\twelcome\n"
     ]
    }
   ],
   "source": [
    "print('hello,\\twelcome')"
   ]
  },
  {
   "cell_type": "code",
   "execution_count": 6,
   "id": "77df5149",
   "metadata": {},
   "outputs": [
    {
     "name": "stdout",
     "output_type": "stream",
     "text": [
      "['B.E', 88.1, 10000, 'TCS']\n"
     ]
    }
   ],
   "source": [
    "#To store many datatypes in a single variable ->list,tuples\n",
    "#List->ordered collection of datatypes\n",
    "data=['asma','B.E',88.1,10000,'TCS']\n",
    "print(data[1:])"
   ]
  },
  {
   "cell_type": "code",
   "execution_count": 7,
   "id": "681e97ba",
   "metadata": {},
   "outputs": [
    {
     "data": {
      "text/plain": [
       "['asma', 'B.Tech', 88.1, 10000, 'TCS']"
      ]
     },
     "execution_count": 7,
     "metadata": {},
     "output_type": "execute_result"
    }
   ],
   "source": [
    "data[1]='B.Tech'\n",
    "data"
   ]
  },
  {
   "cell_type": "code",
   "execution_count": 8,
   "id": "fd5ce8e1",
   "metadata": {},
   "outputs": [
    {
     "ename": "TypeError",
     "evalue": "'tuple' object does not support item assignment",
     "output_type": "error",
     "traceback": [
      "\u001b[0;31m---------------------------------------------------------------------------\u001b[0m",
      "\u001b[0;31mTypeError\u001b[0m                                 Traceback (most recent call last)",
      "Cell \u001b[0;32mIn[8], line 3\u001b[0m\n\u001b[1;32m      1\u001b[0m \u001b[38;5;66;03m#tuple - use it when user should not modify data\u001b[39;00m\n\u001b[1;32m      2\u001b[0m tp\u001b[38;5;241m=\u001b[39m(\u001b[38;5;124m'\u001b[39m\u001b[38;5;124masma\u001b[39m\u001b[38;5;124m'\u001b[39m,\u001b[38;5;124m'\u001b[39m\u001b[38;5;124mB.E\u001b[39m\u001b[38;5;124m'\u001b[39m)\n\u001b[0;32m----> 3\u001b[0m tp[\u001b[38;5;241m1\u001b[39m]\u001b[38;5;241m=\u001b[39m\u001b[38;5;124m'\u001b[39m\u001b[38;5;124mB.Tech\u001b[39m\u001b[38;5;124m'\u001b[39m\n",
      "\u001b[0;31mTypeError\u001b[0m: 'tuple' object does not support item assignment"
     ]
    }
   ],
   "source": [
    "#tuple - use it when user should not modify data\n",
    "tp=('asma','B.E')\n",
    "tp[1]='B.Tech'"
   ]
  },
  {
   "cell_type": "code",
   "execution_count": 9,
   "id": "15d362ab",
   "metadata": {},
   "outputs": [
    {
     "ename": "TypeError",
     "evalue": "'set' object is not subscriptable",
     "output_type": "error",
     "traceback": [
      "\u001b[0;31m---------------------------------------------------------------------------\u001b[0m",
      "\u001b[0;31mTypeError\u001b[0m                                 Traceback (most recent call last)",
      "Cell \u001b[0;32mIn[9], line 3\u001b[0m\n\u001b[1;32m      1\u001b[0m \u001b[38;5;66;03m#Set - Unordered,no slicing,no indexing,duplicates not allowed\u001b[39;00m\n\u001b[1;32m      2\u001b[0m s\u001b[38;5;241m=\u001b[39m{\u001b[38;5;124m'\u001b[39m\u001b[38;5;124masma\u001b[39m\u001b[38;5;124m'\u001b[39m,\u001b[38;5;124m'\u001b[39m\u001b[38;5;124mB.E\u001b[39m\u001b[38;5;124m'\u001b[39m,\u001b[38;5;241m88.1\u001b[39m,\u001b[38;5;241m10000\u001b[39m,\u001b[38;5;124m'\u001b[39m\u001b[38;5;124mTCS\u001b[39m\u001b[38;5;124m'\u001b[39m}\n\u001b[0;32m----> 3\u001b[0m s[\u001b[38;5;241m1\u001b[39m]\n",
      "\u001b[0;31mTypeError\u001b[0m: 'set' object is not subscriptable"
     ]
    }
   ],
   "source": [
    "#Set - Unordered,no slicing,no indexing,duplicates not allowed\n",
    "s={'asma','B.E',88.1,10000,'TCS'}\n",
    "s[1]"
   ]
  },
  {
   "cell_type": "code",
   "execution_count": 10,
   "id": "cb175af6",
   "metadata": {},
   "outputs": [
    {
     "name": "stdout",
     "output_type": "stream",
     "text": [
      "139881447954992\n",
      "139881005627632\n"
     ]
    }
   ],
   "source": [
    "name='asma'\n",
    "print(id(name))\n",
    "name='priya'\n",
    "print(id(name))"
   ]
  },
  {
   "cell_type": "code",
   "execution_count": 12,
   "id": "244d310d",
   "metadata": {},
   "outputs": [
    {
     "data": {
      "text/plain": [
       "5"
      ]
     },
     "execution_count": 12,
     "metadata": {},
     "output_type": "execute_result"
    }
   ],
   "source": [
    "len(data)"
   ]
  },
  {
   "cell_type": "code",
   "execution_count": 14,
   "id": "2bc7b494",
   "metadata": {},
   "outputs": [
    {
     "name": "stdout",
     "output_type": "stream",
     "text": [
      "asma\n",
      "10000\n"
     ]
    }
   ],
   "source": [
    "data=['asma','B.E','88.1','10000','TCS']\n",
    "print(max(data)) #based on ASCII value of first letter\n",
    "print(min(data))"
   ]
  },
  {
   "cell_type": "code",
   "execution_count": 15,
   "id": "753d6c9f",
   "metadata": {},
   "outputs": [
    {
     "data": {
      "text/plain": [
       "'asma'"
      ]
     },
     "execution_count": 15,
     "metadata": {},
     "output_type": "execute_result"
    }
   ],
   "source": [
    "data=['asma','asin'] # 3rd letter m has ASCII value greater than i\n",
    "max(data)"
   ]
  },
  {
   "cell_type": "code",
   "execution_count": 17,
   "id": "1fe20492",
   "metadata": {},
   "outputs": [
    {
     "ename": "TypeError",
     "evalue": "'>' not supported between instances of 'str' and 'int'",
     "output_type": "error",
     "traceback": [
      "\u001b[0;31m---------------------------------------------------------------------------\u001b[0m",
      "\u001b[0;31mTypeError\u001b[0m                                 Traceback (most recent call last)",
      "Cell \u001b[0;32mIn[17], line 2\u001b[0m\n\u001b[1;32m      1\u001b[0m data\u001b[38;5;241m=\u001b[39m(\u001b[38;5;241m11\u001b[39m,\u001b[38;5;124m'\u001b[39m\u001b[38;5;124ma\u001b[39m\u001b[38;5;124m'\u001b[39m)\n\u001b[0;32m----> 2\u001b[0m \u001b[38;5;28mmax\u001b[39m(data)\n",
      "\u001b[0;31mTypeError\u001b[0m: '>' not supported between instances of 'str' and 'int'"
     ]
    }
   ],
   "source": [
    "#cant do max,min with mix datatypes\n",
    "data=(11,'a')\n",
    "max(data)"
   ]
  },
  {
   "cell_type": "markdown",
   "id": "35017663",
   "metadata": {},
   "source": [
    "dict -> unordered,no indexing,can access individually,key-value pair\n",
    "datatype checklist:\n",
    "1)syntax\n",
    "2)mutable/immutable\n",
    "3)ordered/Unordered\n",
    "4)Indexing/slicing possibility\n",
    "5)duplicates allowed/not\n",
    "data structures -> list,tuple,set,dict\n"
   ]
  },
  {
   "cell_type": "code",
   "execution_count": 18,
   "id": "b5df6dd0",
   "metadata": {},
   "outputs": [
    {
     "name": "stdout",
     "output_type": "stream",
     "text": [
      "False\n"
     ]
    },
    {
     "data": {
      "text/plain": [
       "bool"
      ]
     },
     "execution_count": 18,
     "metadata": {},
     "output_type": "execute_result"
    }
   ],
   "source": [
    "a=1>2\n",
    "print(a)\n",
    "type(a)"
   ]
  },
  {
   "cell_type": "code",
   "execution_count": null,
   "id": "0ff04807",
   "metadata": {},
   "outputs": [],
   "source": [
    "#numeric-int(positive,negative,binary,octal,hexa),float,complex,strings,list,tuple,set,dict"
   ]
  },
  {
   "cell_type": "code",
   "execution_count": null,
   "id": "cad4f246",
   "metadata": {},
   "outputs": [],
   "source": [
    "#dict-keys has to be unique,values can be repeated\n"
   ]
  },
  {
   "cell_type": "code",
   "execution_count": 25,
   "id": "5be4dc06",
   "metadata": {},
   "outputs": [
    {
     "name": "stdout",
     "output_type": "stream",
     "text": [
      "['asma', 'B.E', 88.1, 10000, 'TCS', 'Priya']\n",
      "['asma', 'B.E', 'Pavan', 88.1, 10000, 'TCS', 'Priya']\n",
      "None\n",
      "['asma', 'B.E', 'Pavan', 88.1, 'TCS', 'Priya']\n",
      "Priya\n",
      "['asma', 'B.E', 'Pavan', 88.1, 'TCS']\n",
      "None\n",
      "['TCS', 88.1, 'Pavan', 'B.E', 'asma']\n"
     ]
    },
    {
     "ename": "TypeError",
     "evalue": "'<' not supported between instances of 'float' and 'str'",
     "output_type": "error",
     "traceback": [
      "\u001b[0;31m---------------------------------------------------------------------------\u001b[0m",
      "\u001b[0;31mTypeError\u001b[0m                                 Traceback (most recent call last)",
      "Cell \u001b[0;32mIn[25], line 13\u001b[0m\n\u001b[1;32m     11\u001b[0m \u001b[38;5;28mprint\u001b[39m(data\u001b[38;5;241m.\u001b[39mreverse())\n\u001b[1;32m     12\u001b[0m \u001b[38;5;28mprint\u001b[39m(data)\n\u001b[0;32m---> 13\u001b[0m data\u001b[38;5;241m.\u001b[39msort()\n\u001b[1;32m     14\u001b[0m \u001b[38;5;28mprint\u001b[39m(data)\n\u001b[1;32m     15\u001b[0m data\u001b[38;5;241m.\u001b[39msort(reverse\u001b[38;5;241m=\u001b[39m\u001b[38;5;28;01mTrue\u001b[39;00m)\n",
      "\u001b[0;31mTypeError\u001b[0m: '<' not supported between instances of 'float' and 'str'"
     ]
    }
   ],
   "source": [
    "data=['asma','B.E',88.1,10000,'TCS']\n",
    "data.append('Priya')\n",
    "print(data)\n",
    "data.insert(2,'Pavan')\n",
    "print(data)\n",
    "\n",
    "print(data.remove(10000))\n",
    "print(data)\n",
    "print(data.pop())\n",
    "print(data)\n",
    "print(data.reverse())\n",
    "print(data)\n",
    "data.sort() # will work only when we have same datatype in list\n",
    "print(data)\n",
    "data.sort(reverse=True)\n",
    "print(data)"
   ]
  },
  {
   "cell_type": "code",
   "execution_count": 26,
   "id": "c5b9f9b1",
   "metadata": {},
   "outputs": [
    {
     "name": "stdout",
     "output_type": "stream",
     "text": [
      "{'Java', 'PHP', 'Python', 'C++'}\n"
     ]
    }
   ],
   "source": [
    "s={'Python','C++','Java'}\n",
    "s.add('PHP')\n",
    "print(s)\n"
   ]
  },
  {
   "cell_type": "code",
   "execution_count": null,
   "id": "f43d732f",
   "metadata": {},
   "outputs": [],
   "source": [
    "#set methods->add,update,clear,copy,discard(no changes if element not present),remove(throws error if element is not present)\n",
    "#find(returns -1 if element absent),index(throws error if element absent)"
   ]
  },
  {
   "cell_type": "code",
   "execution_count": 1,
   "id": "fde2a92a",
   "metadata": {},
   "outputs": [
    {
     "name": "stdout",
     "output_type": "stream",
     "text": [
      "enter list[2,5,7,8,1]\n",
      "[2, 5, 7, 8, 1]\n",
      "23\n"
     ]
    }
   ],
   "source": [
    "a=eval(input('enter list'))\n",
    "print(a)\n",
    "print(sum(a))"
   ]
  },
  {
   "cell_type": "code",
   "execution_count": 2,
   "id": "046c0957",
   "metadata": {},
   "outputs": [
    {
     "data": {
      "text/plain": [
       "2"
      ]
     },
     "execution_count": 2,
     "metadata": {},
     "output_type": "execute_result"
    }
   ],
   "source": [
    "eval('1+1')"
   ]
  },
  {
   "cell_type": "code",
   "execution_count": null,
   "id": "c0bccae6",
   "metadata": {},
   "outputs": [],
   "source": [
    "#frozen set -> immutable \n",
    "set1={'priya'}\n"
   ]
  },
  {
   "cell_type": "code",
   "execution_count": null,
   "id": "333e33b1",
   "metadata": {},
   "outputs": [],
   "source": [
    "#shalllow (eg:listb=lista,changes made in any list will reflect in both list) and deep copy(listb=list1.copy(lista)-changes made in one list will not reflect in another)"
   ]
  },
  {
   "cell_type": "code",
   "execution_count": 4,
   "id": "cd98fdb0",
   "metadata": {},
   "outputs": [
    {
     "name": "stdout",
     "output_type": "stream",
     "text": [
      "age is 18\n"
     ]
    }
   ],
   "source": [
    "age=18\n",
    "if(age==18):\n",
    "    print('age is 18')"
   ]
  },
  {
   "cell_type": "code",
   "execution_count": 2,
   "id": "781a1794",
   "metadata": {},
   "outputs": [
    {
     "name": "stdout",
     "output_type": "stream",
     "text": [
      "grey\n",
      "50000\n",
      "Mac\n",
      "User not buying it\n"
     ]
    }
   ],
   "source": [
    "color=(input())\n",
    "price=int(input())\n",
    "brand=(input())\n",
    "if( (color!='Black') and (price<=50000) and (brand=='Dell') ):\n",
    "    print(\"User buys it immediately\")\n",
    "elif((color=='Grey') or (brand=='Dell') and (price<=80000)):\n",
    "    print(\"User will buy it next month\")\n",
    "else :\n",
    "    print(\"User not buying it\")"
   ]
  },
  {
   "cell_type": "code",
   "execution_count": 3,
   "id": "64571a50",
   "metadata": {},
   "outputs": [
    {
     "name": "stdout",
     "output_type": "stream",
     "text": [
      "enter no:2\n",
      "Two\n"
     ]
    }
   ],
   "source": [
    "#structural pattern matching\n",
    "#design calculator using match (similar to switch in c programming)\n",
    "num=int(input(\"enter no:\"))\n",
    "match num:\n",
    "    case 1:\n",
    "        print(\"one\")\n",
    "    case 2:\n",
    "        print(\"Two\")\n",
    "    case _:\n",
    "        print(\"Invalid\")"
   ]
  },
  {
   "cell_type": "code",
   "execution_count": 5,
   "id": "ac45f20d",
   "metadata": {},
   "outputs": [
    {
     "name": "stdout",
     "output_type": "stream",
     "text": [
      "enter no:2\n",
      "enter no:5\n",
      "+\n",
      "25\n"
     ]
    }
   ],
   "source": [
    "num1=input(\"enter no:\")\n",
    "num2=input(\"enter no:\")\n",
    "op=input()\n",
    "match op:\n",
    "    case '+':\n",
    "        print(num1+num2)\n",
    "    case '-':\n",
    "        print(num2-num1)\n",
    "    case '/':\n",
    "        print(\"Invalid\")"
   ]
  },
  {
   "cell_type": "code",
   "execution_count": 7,
   "id": "4647f12c",
   "metadata": {},
   "outputs": [
    {
     "name": "stdout",
     "output_type": "stream",
     "text": [
      "p\n",
      "TCS\n",
      "r\n",
      "TCS\n",
      "i\n",
      "TCS\n",
      "y\n",
      "TCS\n",
      "a\n",
      "TCS\n"
     ]
    }
   ],
   "source": [
    "#for loop using strings\n",
    "for i in 'priya':\n",
    "    print(i)\n",
    "    print('TCS')"
   ]
  },
  {
   "cell_type": "code",
   "execution_count": null,
   "id": "6a150b46",
   "metadata": {},
   "outputs": [],
   "source": [
    "#Assignment-FOR LOOP using sets,list,dict"
   ]
  },
  {
   "cell_type": "code",
   "execution_count": null,
   "id": "747748ea",
   "metadata": {},
   "outputs": [],
   "source": []
  },
  {
   "cell_type": "code",
   "execution_count": null,
   "id": "daa971e2",
   "metadata": {},
   "outputs": [],
   "source": []
  },
  {
   "cell_type": "code",
   "execution_count": null,
   "id": "1428278d",
   "metadata": {},
   "outputs": [],
   "source": []
  },
  {
   "cell_type": "code",
   "execution_count": null,
   "id": "d15aff35",
   "metadata": {},
   "outputs": [],
   "source": []
  }
 ],
 "metadata": {
  "kernelspec": {
   "display_name": "Python 3 (ipykernel)",
   "language": "python",
   "name": "python3"
  },
  "language_info": {
   "codemirror_mode": {
    "name": "ipython",
    "version": 3
   },
   "file_extension": ".py",
   "mimetype": "text/x-python",
   "name": "python",
   "nbconvert_exporter": "python",
   "pygments_lexer": "ipython3",
   "version": "3.11.4"
  }
 },
 "nbformat": 4,
 "nbformat_minor": 5
}
