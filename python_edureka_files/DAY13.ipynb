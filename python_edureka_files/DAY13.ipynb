{
 "cells": [
  {
   "cell_type": "code",
   "execution_count": null,
   "id": "edab5172",
   "metadata": {},
   "outputs": [],
   "source": [
    "#REinforcement learning  -Robotics,chess,adative controller,self driver cars,chatgpt,"
   ]
  },
  {
   "cell_type": "code",
   "execution_count": null,
   "id": "de37872b",
   "metadata": {},
   "outputs": [],
   "source": [
    "#MArkov decision process,Qlearning Algorithm(uses dynamic programming to find optimal path) ->Uses Bellman's equation\n"
   ]
  },
  {
   "cell_type": "code",
   "execution_count": null,
   "id": "ecee21c8",
   "metadata": {},
   "outputs": [],
   "source": [
    "#Atari games,counter strike game"
   ]
  },
  {
   "cell_type": "code",
   "execution_count": null,
   "id": "a58437a9",
   "metadata": {},
   "outputs": [],
   "source": [
    "#Time series Analysis -ARIMA,SARIMA  ->ALGORITHMS FOR FORECASTING\n",
    "#statsmodels lib is used"
   ]
  },
  {
   "cell_type": "code",
   "execution_count": null,
   "id": "a1660883",
   "metadata": {},
   "outputs": [],
   "source": [
    "#Advanced ML concepts\n",
    "Ensemble methods(Bagging-parallel and boosting-squential- algo)  Eg:xgboost,Adaboost,LightGBM,Randomforest etc\n",
    "GRadient Descent\n",
    "Dimensinality Reduction\n"
   ]
  },
  {
   "cell_type": "code",
   "execution_count": null,
   "id": "3adb4c8c",
   "metadata": {},
   "outputs": [],
   "source": [
    "#Model selection"
   ]
  },
  {
   "cell_type": "code",
   "execution_count": null,
   "id": "fd86a7be",
   "metadata": {},
   "outputs": [],
   "source": []
  },
  {
   "cell_type": "code",
   "execution_count": 1,
   "id": "9dcfe4e6",
   "metadata": {},
   "outputs": [],
   "source": [
    "#Q-learninbg\n",
    "import numpy as np"
   ]
  },
  {
   "cell_type": "code",
   "execution_count": 3,
   "id": "2595c48f",
   "metadata": {},
   "outputs": [],
   "source": [
    "R=np.matrix([[-1,-1,-1,-1,0,-1],[-1,-1,-1,0,-1,100],[-1,-1,-1,0,-1,-1],[-1,0,0,-1,0,-1],[-1,0,0,-1,-1,100],[-1,0,-1,-1,0,100]])"
   ]
  },
  {
   "cell_type": "code",
   "execution_count": 7,
   "id": "19dccdb4",
   "metadata": {},
   "outputs": [],
   "source": [
    "#Q-matrix\n",
    "Q=np.matrix(np.zeros([6,6]))\n",
    "#Gamma(learning parameter)\n",
    "gamma=0.8\n",
    "#INitial state(usually choosen at random)\n",
    "initial_state=1"
   ]
  },
  {
   "cell_type": "code",
   "execution_count": 8,
   "id": "32f5bbdb",
   "metadata": {},
   "outputs": [],
   "source": [
    "#this function returns all available actions in the state given as an argument\n",
    "def available_actions(state):\n",
    "    current_state_row=R[state,]\n",
    "    print(current_state_row)\n",
    "    av_act=np.where(current_state_row>=0)[1]\n",
    "    return av_act"
   ]
  },
  {
   "cell_type": "code",
   "execution_count": 9,
   "id": "366a93da",
   "metadata": {},
   "outputs": [],
   "source": [
    "#get available actions in the current state\n",
    "available_act=available_actions(initial_state)"
   ]
  },
  {
   "cell_type": "code",
   "execution_count": 13,
   "id": "29a6e599",
   "metadata": {},
   "outputs": [],
   "source": [
    "#This func choosen at random which action to be performed within the range of all available actions\n",
    "def sample_next_action(available_actions_range):\n",
    "    next_action=int(np.random.choice(available_act,1))\n",
    "    return next_action"
   ]
  },
  {
   "cell_type": "code",
   "execution_count": null,
   "id": "ea86db79",
   "metadata": {},
   "outputs": [],
   "source": [
    "#this function updates the Qmatrix according to the path selected and Qlearning algorithm\n",
    "def update(current_state,action,gamma):\n",
    "    max_index=np.where(Q[action,]==np.max(Q[action,1]))[1]\n",
    "    if max.index.shape[0]>1:\n",
    "        max_index=int(np.random.choice(max_index,size=1))\n",
    "    else:"
   ]
  },
  {
   "cell_type": "code",
   "execution_count": null,
   "id": "2bfa6edf",
   "metadata": {},
   "outputs": [],
   "source": []
  }
 ],
 "metadata": {
  "kernelspec": {
   "display_name": "Python 3 (ipykernel)",
   "language": "python",
   "name": "python3"
  },
  "language_info": {
   "codemirror_mode": {
    "name": "ipython",
    "version": 3
   },
   "file_extension": ".py",
   "mimetype": "text/x-python",
   "name": "python",
   "nbconvert_exporter": "python",
   "pygments_lexer": "ipython3",
   "version": "3.11.4"
  }
 },
 "nbformat": 4,
 "nbformat_minor": 5
}
