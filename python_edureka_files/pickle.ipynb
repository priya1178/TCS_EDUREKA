{
 "cells": [
  {
   "cell_type": "code",
   "execution_count": 2,
   "id": "4c60da84",
   "metadata": {},
   "outputs": [
    {
     "name": "stdout",
     "output_type": "stream",
     "text": [
      "b'\\x80\\x04\\x95%\\x00\\x00\\x00\\x00\\x00\\x00\\x00}\\x94(\\x8c\\x04name\\x94\\x8c\\x05priya\\x94\\x8c\\x03age\\x94K\\x17\\x8c\\x03sal\\x94MP\\xc3u.'\n",
      "{'name': 'priya', 'age': 23, 'sal': 50000}\n"
     ]
    }
   ],
   "source": [
    "import pickle\n",
    "e2={'job':'chef','company':'kitchenM'}\n",
    "e1={'name':'priya',\"age\":23,\"sal\":50000}\n",
    "db1={}\n",
    "b=pickle.dumps(e1)\n",
    "print(b)\n",
    "m=pickle.loads(b)\n",
    "print(m)"
   ]
  },
  {
   "cell_type": "markdown",
   "id": "f210c860",
   "metadata": {},
   "source": [
    "Python pickle module is used for serializing and de-serializing a Python object structure. Any object in Python can be pickled so that it can be saved on disk. What Pickle does is it “serializes” the object first before writing it to a file. Pickling is a way to convert a Python object (list, dictionary, etc.) into a character stream. The idea is that this character stream contains all the information necessary to reconstruct the object in another Python script. It provides a facility to convert any Python object to a byte stream. This Byte stream contains all essential information about the object so that it can be reconstructed, or “unpickled” and get back into its original form in any Python."
   ]
  },
  {
   "cell_type": "code",
   "execution_count": null,
   "id": "1a301a6c",
   "metadata": {},
   "outputs": [],
   "source": []
  },
  {
   "cell_type": "code",
   "execution_count": null,
   "id": "1b9d737d",
   "metadata": {},
   "outputs": [],
   "source": []
  },
  {
   "cell_type": "code",
   "execution_count": null,
   "id": "a5b094e0",
   "metadata": {},
   "outputs": [],
   "source": []
  }
 ],
 "metadata": {
  "kernelspec": {
   "display_name": "Python 3 (ipykernel)",
   "language": "python",
   "name": "python3"
  },
  "language_info": {
   "codemirror_mode": {
    "name": "ipython",
    "version": 3
   },
   "file_extension": ".py",
   "mimetype": "text/x-python",
   "name": "python",
   "nbconvert_exporter": "python",
   "pygments_lexer": "ipython3",
   "version": "3.11.4"
  }
 },
 "nbformat": 4,
 "nbformat_minor": 5
}
